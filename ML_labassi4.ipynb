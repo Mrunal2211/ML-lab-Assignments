{
  "nbformat": 4,
  "nbformat_minor": 0,
  "metadata": {
    "colab": {
      "provenance": []
    },
    "kernelspec": {
      "name": "python3",
      "display_name": "Python 3"
    },
    "language_info": {
      "name": "python"
    }
  },
  "cells": [
    {
      "cell_type": "code",
      "execution_count": 6,
      "metadata": {
        "colab": {
          "base_uri": "https://localhost:8080/"
        },
        "id": "Qr6xOx5BjLIg",
        "outputId": "4301d1eb-d1e7-4e18-ce8a-86d2f8c6daa4"
      },
      "outputs": [
        {
          "output_type": "stream",
          "name": "stdout",
          "text": [
            "Forward Algorithm: Probability of Observations = 0.033612\n"
          ]
        }
      ],
      "source": [
        "# forward\n",
        "import numpy as np\n",
        "# States and Observations\n",
        "states = [\"Rainy\", \"Sunny\"]\n",
        "observations = [\"Walk\", \"Shop\", \"Clean\"]\n",
        "obs_seq = [0, 1, 2]   # Walk=0, Shop=1, Clean=2\n",
        "\n",
        "# HMM Parameters\n",
        "pi = np.array([0.6, 0.4])   # Initial probabilities\n",
        "A = np.array([[0.7, 0.3],   # Transition matrix\n",
        "              [0.4, 0.6]])\n",
        "B = np.array([[0.1, 0.4, 0.5],   # Emission matrix\n",
        "              [0.6, 0.3, 0.1]])\n",
        "def forward(obs_seq, A, B, pi):\n",
        "    N = len(A)  # number of states\n",
        "    T = len(obs_seq)  # length of observation sequence\n",
        "\n",
        "    alpha = np.zeros((T, N))\n",
        "    # Initialization\n",
        "    alpha[0] = pi * B[:, obs_seq[0]]\n",
        "\n",
        "    # Induction\n",
        "    for t in range(1, T):\n",
        "        for j in range(N):\n",
        "            alpha[t, j] = np.sum(alpha[t-1] * A[:, j]) * B[j, obs_seq[t]]\n",
        "   # Termination\n",
        "    return np.sum(alpha[T-1])\n",
        "forward_prob = forward(obs_seq, A, B, pi)\n",
        "print(\"Forward Algorithm: Probability of Observations =\", forward_prob)\n"
      ]
    },
    {
      "cell_type": "code",
      "source": [
        "\n",
        "#Viterbi Algorithm:\n",
        "def viterbi(obs_seq, A, B, pi):\n",
        "    N = len(A)\n",
        "    T = len(obs_seq)\n",
        "    delta = np.zeros((T, N))\n",
        "    psi = np.zeros((T, N), dtype=int)\n",
        "\n",
        "    # Initialization\n",
        "    delta[0] = pi * B[:, obs_seq[0]]\n",
        "    # Recursion\n",
        "    for t in range(1, T):\n",
        "        for j in range(N):\n",
        "            seq_probs = delta[t-1] * A[:, j]\n",
        "            psi[t, j] = np.argmax(seq_probs)\n",
        "            delta[t, j] = np.max(seq_probs) * B[j, obs_seq[t]]\n",
        "\n",
        "    # Termination\n",
        "    best_path_prob = np.max(delta[T-1])\n",
        "    best_last_state = np.argmax(delta[T-1])\n",
        "\n",
        "    # Backtracking\n",
        "    best_path = [best_last_state]\n",
        "    for t in range(T-1, 0, -1):\n",
        "        best_last_state = psi[t, best_last_state]\n",
        "        best_path.insert(0, best_last_state)\n",
        "\n",
        "    return best_path_prob, [states[i] for i in best_path]\n",
        "viterbi_prob, viterbi_path = viterbi(obs_seq, A, B, pi)\n",
        "print(\"Viterbi Algorithm: Best Path Probability =\", viterbi_prob)\n",
        "print(\"Most Likely State Sequence =\", viterbi_path)\n"
      ],
      "metadata": {
        "colab": {
          "base_uri": "https://localhost:8080/"
        },
        "id": "q3iDGw4Xjd8_",
        "outputId": "43f50cbe-c85e-4b20-801f-19460d90b783"
      },
      "execution_count": 3,
      "outputs": [
        {
          "output_type": "stream",
          "name": "stdout",
          "text": [
            "Viterbi Algorithm: Best Path Probability = 0.01344\n",
            "Most Likely State Sequence = ['Sunny', 'Rainy', 'Rainy']\n"
          ]
        }
      ]
    }
  ]
}